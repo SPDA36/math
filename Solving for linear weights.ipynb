{
 "cells": [
  {
   "cell_type": "markdown",
   "id": "9fed1dcf-1841-4639-81c3-90f89fd89f5d",
   "metadata": {},
   "source": [
    "# Purpose\n",
    "Matrix Inversion via numpy with a square matrix<br>\n",
    "Computing weights for a linear equation y=Xw"
   ]
  },
  {
   "cell_type": "code",
   "execution_count": null,
   "id": "5286c652-6d3e-44fe-a104-d9bc7e843f04",
   "metadata": {},
   "outputs": [],
   "source": [
    "import numpy as np"
   ]
  },
  {
   "cell_type": "markdown",
   "id": "52ce51e8-fd09-43f9-9a1d-01983449faee",
   "metadata": {},
   "source": [
    "**Creating a dummy matrix, X, and y vector**"
   ]
  },
  {
   "cell_type": "code",
   "execution_count": 2,
   "id": "7ebc74b0-d43d-45a0-81af-735e43046369",
   "metadata": {},
   "outputs": [
    {
     "data": {
      "text/plain": [
       "(array([[ 1., 25.,  2.,  9.],\n",
       "        [ 1.,  5., 26., -5.],\n",
       "        [ 1.,  3.,  7., -1.],\n",
       "        [ 1., 24.,  8., -2.]]),\n",
       " (4, 4))"
      ]
     },
     "execution_count": 2,
     "metadata": {},
     "output_type": "execute_result"
    }
   ],
   "source": [
    "X = np.array([[1, 25.,  2.,  9.],\n",
    "               [1, 5., 26., -5.],\n",
    "               [1, 3.,  7., -1.],\n",
    "               [1, 24., 8., -2.]])\n",
    "X,X.shape\n",
    "\n",
    "# square matrix for our X features"
   ]
  },
  {
   "cell_type": "code",
   "execution_count": 3,
   "id": "ceeff515-8052-47ff-9849-36a1b4e4cb01",
   "metadata": {},
   "outputs": [
    {
     "data": {
      "text/plain": [
       "(array([13., 20., 15.,  4.]), (4,))"
      ]
     },
     "execution_count": 3,
     "metadata": {},
     "output_type": "execute_result"
    }
   ],
   "source": [
    "y = np.array([13.,20.,15.,4.])\n",
    "y,y.shape\n",
    "\n",
    "# y vector for our target"
   ]
  },
  {
   "cell_type": "markdown",
   "id": "6b5771df-dd5d-4855-bca4-58e57b17bad6",
   "metadata": {},
   "source": [
    "**Is the X matrix invertable?**"
   ]
  },
  {
   "cell_type": "markdown",
   "id": "97ba4d9c-8817-4918-bf70-e07efc4bf037",
   "metadata": {},
   "source": [
    "Check 1 using the determinants"
   ]
  },
  {
   "cell_type": "code",
   "execution_count": 4,
   "id": "54221f2c-9593-4c64-932a-9311a539de82",
   "metadata": {},
   "outputs": [
    {
     "data": {
      "text/plain": [
       "-3889.999999999999"
      ]
     },
     "execution_count": 4,
     "metadata": {},
     "output_type": "execute_result"
    }
   ],
   "source": [
    "np.linalg.det(X) # =/= 0; means it is invertable\n",
    "# yes because it is not equal to zero"
   ]
  },
  {
   "cell_type": "markdown",
   "id": "5caf7804-9f12-4894-b2a0-24a0f3c631cc",
   "metadata": {},
   "source": [
    "Check 2 using identity matrix. (ignore rounding errors)"
   ]
  },
  {
   "cell_type": "code",
   "execution_count": 7,
   "id": "bd1956fc-cf5c-4f68-b373-44be9ff8ef1c",
   "metadata": {},
   "outputs": [
    {
     "data": {
      "text/plain": [
       "array([[ 1.00000000e+00, -1.33226763e-15,  0.00000000e+00,\n",
       "         0.00000000e+00],\n",
       "       [-6.93889390e-18,  1.00000000e+00, -5.55111512e-17,\n",
       "         0.00000000e+00],\n",
       "       [ 0.00000000e+00,  1.11022302e-16,  1.00000000e+00,\n",
       "         2.77555756e-17],\n",
       "       [ 0.00000000e+00,  4.44089210e-16,  0.00000000e+00,\n",
       "         1.00000000e+00]])"
      ]
     },
     "execution_count": 7,
     "metadata": {},
     "output_type": "execute_result"
    }
   ],
   "source": [
    "np.dot((np.linalg.inv(X)),X)\n",
    "# should produce an identity matrix if invertable\n",
    "# yes it is invertable"
   ]
  },
  {
   "cell_type": "code",
   "execution_count": 8,
   "id": "22b31aed-3e8f-4d9f-b87a-6260a8ef248e",
   "metadata": {},
   "outputs": [],
   "source": [
    "# both checks are not necessary.  two ways to check."
   ]
  },
  {
   "cell_type": "markdown",
   "id": "44dcaa34-7dcd-4446-a1e2-6f7726eb1f27",
   "metadata": {},
   "source": [
    "**Solve for the weights**"
   ]
  },
  {
   "cell_type": "code",
   "execution_count": 9,
   "id": "88673069-0fb3-43bc-abf3-c35063782385",
   "metadata": {},
   "outputs": [],
   "source": [
    "# w = dot(inv(X),y)"
   ]
  },
  {
   "cell_type": "code",
   "execution_count": 10,
   "id": "59971c5f-fbd4-46d7-90cf-7c784b2ca373",
   "metadata": {},
   "outputs": [
    {
     "data": {
      "text/plain": [
       "array([13.72390746, -0.49485861,  0.56143959,  1.16940874])"
      ]
     },
     "execution_count": 10,
     "metadata": {},
     "output_type": "execute_result"
    }
   ],
   "source": [
    "w = np.dot((np.linalg.inv(X)),y)\n",
    "w"
   ]
  },
  {
   "cell_type": "code",
   "execution_count": 11,
   "id": "9b11966f-1c1b-4620-bd45-18eddd0166dd",
   "metadata": {},
   "outputs": [
    {
     "data": {
      "text/plain": [
       "array([13., 20., 15.,  4.])"
      ]
     },
     "execution_count": 11,
     "metadata": {},
     "output_type": "execute_result"
    }
   ],
   "source": [
    "y"
   ]
  },
  {
   "cell_type": "code",
   "execution_count": 13,
   "id": "7d3de0a8-058f-468e-a9bb-dec5d2009d71",
   "metadata": {},
   "outputs": [
    {
     "data": {
      "text/plain": [
       "array([13., 20., 15.,  4.])"
      ]
     },
     "execution_count": 13,
     "metadata": {},
     "output_type": "execute_result"
    }
   ],
   "source": [
    "np.dot(X,w)"
   ]
  },
  {
   "cell_type": "code",
   "execution_count": null,
   "id": "1e3de021-f624-47ad-87e7-397686a9c164",
   "metadata": {},
   "outputs": [],
   "source": [
    "# y = dot(X,w)"
   ]
  }
 ],
 "metadata": {
  "kernelspec": {
   "display_name": "Python [conda env:DataScience3140_AUG] *",
   "language": "python",
   "name": "conda-env-DataScience3140_AUG-py"
  },
  "language_info": {
   "codemirror_mode": {
    "name": "ipython",
    "version": 3
   },
   "file_extension": ".py",
   "mimetype": "text/x-python",
   "name": "python",
   "nbconvert_exporter": "python",
   "pygments_lexer": "ipython3",
   "version": "3.10.6"
  }
 },
 "nbformat": 4,
 "nbformat_minor": 5
}
