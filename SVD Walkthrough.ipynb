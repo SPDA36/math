{
 "cells": [
  {
   "cell_type": "markdown",
   "id": "4493712c-db5a-4f8b-b598-0e7928beb5a2",
   "metadata": {},
   "source": [
    "# Purpose \n",
    "Singular Value Decomposition (SVD) walkthrough with numpy"
   ]
  },
  {
   "cell_type": "code",
   "execution_count": 3,
   "id": "b5009040-ce8a-4e2d-924e-ee1a7aa4f003",
   "metadata": {},
   "outputs": [],
   "source": [
    "import numpy as np"
   ]
  },
  {
   "cell_type": "markdown",
   "id": "a25bfe4c-fa5e-4c87-b996-469e2b9f0d46",
   "metadata": {},
   "source": [
    "**A = UDV.T**"
   ]
  },
  {
   "cell_type": "code",
   "execution_count": 8,
   "id": "bbb70817-ee0c-4dbd-8daf-a90f21f1a32d",
   "metadata": {},
   "outputs": [
    {
     "data": {
      "text/plain": [
       "(array([[25.,  2., -5.],\n",
       "        [ 3., -2.,  1.],\n",
       "        [ 5.,  7.,  4.],\n",
       "        [ 2.,  3.,  4.]]),\n",
       " 'm x n',\n",
       " (4, 3))"
      ]
     },
     "execution_count": 8,
     "metadata": {},
     "output_type": "execute_result"
    }
   ],
   "source": [
    "A = np.array([[25,2,-5],\n",
    "              [3,-2,1],\n",
    "              [5,7,4.],\n",
    "              [2,3,4]])\n",
    "\n",
    "A, 'm x n', A.shape\n",
    "# m x n shape"
   ]
  },
  {
   "cell_type": "code",
   "execution_count": 9,
   "id": "7e719679-5df3-41e5-bbbf-256541002422",
   "metadata": {},
   "outputs": [],
   "source": [
    "U, d, VT = np.linalg.svd(A)"
   ]
  },
  {
   "cell_type": "code",
   "execution_count": 10,
   "id": "18e333e8-6889-4ca7-99c8-ba63cc826784",
   "metadata": {},
   "outputs": [
    {
     "data": {
      "text/plain": [
       "(array([[-0.9726183 ,  0.19750537,  0.07504387,  0.09681783],\n",
       "        [-0.09719058,  0.08953374, -0.86048107, -0.49204677],\n",
       "        [-0.19985198, -0.82963752,  0.20927216, -0.47745778],\n",
       "        [-0.06802074, -0.51446761, -0.45841673,  0.72149176]]),\n",
       " 'm x m',\n",
       " (4, 4))"
      ]
     },
     "execution_count": 10,
     "metadata": {},
     "output_type": "execute_result"
    }
   ],
   "source": [
    "U, 'm x m', U.shape\n",
    "# m x m shape\n",
    "# left singular vector: U"
   ]
  },
  {
   "cell_type": "code",
   "execution_count": 11,
   "id": "36f5e15f-7772-43b3-90b9-b472c89ac51f",
   "metadata": {},
   "outputs": [
    {
     "data": {
      "text/plain": [
       "(array([26.22145632,  9.50138038,  3.02638387]), 'n', (3,))"
      ]
     },
     "execution_count": 11,
     "metadata": {},
     "output_type": "execute_result"
    }
   ],
   "source": [
    "d, 'n', d.shape\n",
    "# n shape\n",
    "# singular values: d"
   ]
  },
  {
   "cell_type": "code",
   "execution_count": 12,
   "id": "3c9c2ed3-cab7-4951-87d1-3a72e397623d",
   "metadata": {},
   "outputs": [
    {
     "data": {
      "text/plain": [
       "(array([[-0.98172772, -0.127906  ,  0.14089263],\n",
       "        [ 0.00306404, -0.75093533, -0.66036864],\n",
       "        [-0.19026637,  0.6478705 , -0.73760594]]),\n",
       " 'n x n',\n",
       " (3, 3))"
      ]
     },
     "execution_count": 12,
     "metadata": {},
     "output_type": "execute_result"
    }
   ],
   "source": [
    "VT, 'n x n', VT.shape\n",
    "# n x n shape\n",
    "# right singular vector V.T which is transposed automatically in the output"
   ]
  },
  {
   "cell_type": "code",
   "execution_count": 13,
   "id": "d6f3491e-9b74-45ae-a70a-560f6a1c6d62",
   "metadata": {},
   "outputs": [
    {
     "data": {
      "text/plain": [
       "(array([[26.22145632,  0.        ,  0.        ],\n",
       "        [ 0.        ,  9.50138038,  0.        ],\n",
       "        [ 0.        ,  0.        ,  3.02638387],\n",
       "        [ 0.        ,  0.        ,  0.        ]]),\n",
       " 'm x n',\n",
       " (4, 3))"
      ]
     },
     "execution_count": 13,
     "metadata": {},
     "output_type": "execute_result"
    }
   ],
   "source": [
    "D = np.concatenate((np.diag(d), np.zeros((1,d.shape[0]))), axis=0)\n",
    "D, 'm x n', D.shape\n",
    "# m x n shape\n",
    "# D is the diagonal of the singular values, d, with an extra row concatenated to allow\n",
    "# for matrix multiplication that will be used to solve for A"
   ]
  },
  {
   "cell_type": "code",
   "execution_count": 20,
   "id": "da3dc64f-df61-414c-a1bf-cbc96215e941",
   "metadata": {},
   "outputs": [
    {
     "data": {
      "text/plain": [
       "(array([[25.,  2., -5.],\n",
       "        [ 3., -2.,  1.],\n",
       "        [ 5.,  7.,  4.],\n",
       "        [ 2.,  3.,  4.]]),\n",
       " 'm x n',\n",
       " (4, 3))"
      ]
     },
     "execution_count": 20,
     "metadata": {},
     "output_type": "execute_result"
    }
   ],
   "source": [
    "# A = UDV.T\n",
    "# m x m, m x n, n x n = m x n\n",
    "\n",
    "np.dot(U, np.dot(D,VT)), 'm x n', np.dot(U, np.dot(D,VT)).shape"
   ]
  },
  {
   "cell_type": "code",
   "execution_count": 25,
   "id": "445c3e60-cab3-4cdb-b840-2256cd149288",
   "metadata": {},
   "outputs": [
    {
     "data": {
      "text/plain": [
       "(array([[25.,  2., -5.],\n",
       "        [ 3., -2.,  1.],\n",
       "        [ 5.,  7.,  4.],\n",
       "        [ 2.,  3.,  4.]]),\n",
       " 'm x n',\n",
       " (4, 3))"
      ]
     },
     "execution_count": 25,
     "metadata": {},
     "output_type": "execute_result"
    }
   ],
   "source": [
    "A, 'm x n', A.shape\n",
    "# m x n shape"
   ]
  }
 ],
 "metadata": {
  "kernelspec": {
   "display_name": "Python [conda env:DataScience3140_AUG] *",
   "language": "python",
   "name": "conda-env-DataScience3140_AUG-py"
  },
  "language_info": {
   "codemirror_mode": {
    "name": "ipython",
    "version": 3
   },
   "file_extension": ".py",
   "mimetype": "text/x-python",
   "name": "python",
   "nbconvert_exporter": "python",
   "pygments_lexer": "ipython3",
   "version": "3.10.6"
  }
 },
 "nbformat": 4,
 "nbformat_minor": 5
}
